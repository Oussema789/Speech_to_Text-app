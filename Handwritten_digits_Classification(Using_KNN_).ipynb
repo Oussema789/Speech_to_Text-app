{
  "nbformat": 4,
  "nbformat_minor": 0,
  "metadata": {
    "colab": {
      "provenance": [],
      "authorship_tag": "ABX9TyO8KkVe6ZBXtiLg6SaFF97Z",
      "include_colab_link": true
    },
    "kernelspec": {
      "name": "python3",
      "display_name": "Python 3"
    },
    "language_info": {
      "name": "python"
    }
  },
  "cells": [
    {
      "cell_type": "markdown",
      "metadata": {
        "id": "view-in-github",
        "colab_type": "text"
      },
      "source": [
        "<a href=\"https://colab.research.google.com/github/Oussema789/Speech_to_Text-app/blob/master/Handwritten_digits_Classification(Using_KNN_).ipynb\" target=\"_parent\"><img src=\"https://colab.research.google.com/assets/colab-badge.svg\" alt=\"Open In Colab\"/></a>"
      ]
    },
    {
      "cell_type": "code",
      "execution_count": 20,
      "metadata": {
        "id": "Vj_sWPgD-WG3"
      },
      "outputs": [],
      "source": [
        "# import the necessary packages\n",
        "#The reason is that the cross_validation module has been deprecated in recent versions of scikit-learn (since version 0.20)\n",
        "#and replaced with model_selection.\n",
        "\n",
        "\n",
        "from __future__ import print_function\n",
        "from sklearn.model_selection import train_test_split\n",
        "from sklearn.neighbors import KNeighborsClassifier\n",
        "from sklearn.metrics import confusion_matrix\n",
        "from sklearn.metrics import classification_report\n",
        "from sklearn import datasets\n",
        "from skimage import exposure\n",
        "import numpy as np\n",
        "import cv2\n",
        "import matplotlib.pyplot as plt\n"
      ]
    },
    {
      "cell_type": "code",
      "source": [
        "# load the MNIST digits dataset\n",
        "\n",
        "mnist = datasets.load_digits()\n",
        "print(mnist.images)"
      ],
      "metadata": {
        "colab": {
          "base_uri": "https://localhost:8080/"
        },
        "id": "ZqIP0Aqc_RUZ",
        "outputId": "b083bb7e-1da6-4f13-8312-f5107d405e0c"
      },
      "execution_count": 21,
      "outputs": [
        {
          "output_type": "stream",
          "name": "stdout",
          "text": [
            "[[[ 0.  0.  5. ...  1.  0.  0.]\n",
            "  [ 0.  0. 13. ... 15.  5.  0.]\n",
            "  [ 0.  3. 15. ... 11.  8.  0.]\n",
            "  ...\n",
            "  [ 0.  4. 11. ... 12.  7.  0.]\n",
            "  [ 0.  2. 14. ... 12.  0.  0.]\n",
            "  [ 0.  0.  6. ...  0.  0.  0.]]\n",
            "\n",
            " [[ 0.  0.  0. ...  5.  0.  0.]\n",
            "  [ 0.  0.  0. ...  9.  0.  0.]\n",
            "  [ 0.  0.  3. ...  6.  0.  0.]\n",
            "  ...\n",
            "  [ 0.  0.  1. ...  6.  0.  0.]\n",
            "  [ 0.  0.  1. ...  6.  0.  0.]\n",
            "  [ 0.  0.  0. ... 10.  0.  0.]]\n",
            "\n",
            " [[ 0.  0.  0. ... 12.  0.  0.]\n",
            "  [ 0.  0.  3. ... 14.  0.  0.]\n",
            "  [ 0.  0.  8. ... 16.  0.  0.]\n",
            "  ...\n",
            "  [ 0.  9. 16. ...  0.  0.  0.]\n",
            "  [ 0.  3. 13. ... 11.  5.  0.]\n",
            "  [ 0.  0.  0. ... 16.  9.  0.]]\n",
            "\n",
            " ...\n",
            "\n",
            " [[ 0.  0.  1. ...  1.  0.  0.]\n",
            "  [ 0.  0. 13. ...  2.  1.  0.]\n",
            "  [ 0.  0. 16. ... 16.  5.  0.]\n",
            "  ...\n",
            "  [ 0.  0. 16. ... 15.  0.  0.]\n",
            "  [ 0.  0. 15. ... 16.  0.  0.]\n",
            "  [ 0.  0.  2. ...  6.  0.  0.]]\n",
            "\n",
            " [[ 0.  0.  2. ...  0.  0.  0.]\n",
            "  [ 0.  0. 14. ... 15.  1.  0.]\n",
            "  [ 0.  4. 16. ... 16.  7.  0.]\n",
            "  ...\n",
            "  [ 0.  0.  0. ... 16.  2.  0.]\n",
            "  [ 0.  0.  4. ... 16.  2.  0.]\n",
            "  [ 0.  0.  5. ... 12.  0.  0.]]\n",
            "\n",
            " [[ 0.  0. 10. ...  1.  0.  0.]\n",
            "  [ 0.  2. 16. ...  1.  0.  0.]\n",
            "  [ 0.  0. 15. ... 15.  0.  0.]\n",
            "  ...\n",
            "  [ 0.  4. 16. ... 16.  6.  0.]\n",
            "  [ 0.  8. 16. ... 16.  8.  0.]\n",
            "  [ 0.  1.  8. ... 12.  1.  0.]]]\n"
          ]
        }
      ]
    },
    {
      "cell_type": "markdown",
      "source": [
        "In the code snippet you provided, the function datasets.load_digits() is used to load the MNIST digits dataset. Let's break it down:\n",
        "\n",
        "In the code snippet you provided, the function `datasets.load_digits()` is used to load the MNIST digits dataset. Let's break it down:\n",
        "\n",
        "1. **MNIST Dataset**: The MNIST dataset is a popular benchmark dataset in the field of machine learning. It consists of a collection of handwritten digits (0-9) that are commonly used for training and evaluating classification algorithms. Each image in the dataset is a grayscale image of size 28x28 pixels.\n",
        "\n",
        "2. **`datasets` module**: The `datasets` module is part of the scikit-learn library (`sklearn`). It provides various datasets for practicing and testing machine learning algorithms.\n",
        "\n",
        "3. **`load_digits()` function**: `load_digits()` is a function provided by the `datasets` module. When called, it loads the MNIST digits dataset and returns it as a dictionary-like object.\n",
        "\n",
        "4. **Returned object**: The `load_digits()` function returns an object with the following attributes:\n",
        "   - `data`: A 2D array representing the pixel values of each image in the dataset. Each row of the array corresponds to a flattened 8x8 image (64 pixels).\n",
        "   - `target`: An array of the corresponding labels or target values for each image. Each value in the array represents the digit (0-9) associated with the corresponding image.\n",
        "   - `images`: A 3D array of shape (n_samples, 8, 8) containing the original images in their original 8x8 shape.\n",
        "   - `DESCR`: A description of the dataset.\n",
        "\n",
        "In your code snippet, the `mnist` variable is assigned the dictionary-like object returned by `datasets.load_digits()`. By accessing the attributes of this object, you can access the input data (`mnist.data`), target values (`mnist.target`), original images (`mnist.images`), and dataset description (`mnist.DESCR`).\n",
        "\n",
        "Overall, by using `datasets.load_digits()`, you can easily load the MNIST digits dataset into your code and access its associated data and labels for further processing or training machine learning models.\n",
        "\n",
        "[15]\n"
      ],
      "metadata": {
        "id": "KQB-k-ecUI2Q"
      }
    },
    {
      "cell_type": "code",
      "source": [
        "# take the MNIST data and construct the training and testing split, using 75% of the\n",
        "# data for training and 25% for testing\n",
        "\n",
        "(trainData, testData, trainLabels, testLabels) = train_test_split(np.array(mnist.data),\n",
        "mnist.target, test_size=0.25, random_state=42)"
      ],
      "metadata": {
        "id": "bE6jqdYy_Yay"
      },
      "execution_count": 22,
      "outputs": []
    },
    {
      "cell_type": "markdown",
      "source": [
        "In the provided code snippet, the `train_test_split` function is used to split the MNIST dataset into training and testing sets. Let's understand the function and its parameters:\n",
        "\n",
        "1. **`train_test_split` function**: `train_test_split` is a function from the `model_selection` module of scikit-learn (`sklearn`). It allows for randomly splitting a dataset into two or more subsets for training and testing machine learning models.\n",
        "\n",
        "2. **Input Parameters**:\n",
        "   - `np.array(mnist.data)`: The input dataset, which is the pixel values of the MNIST digits. It is converted to a NumPy array using `np.array()` to ensure compatibility with the `train_test_split` function.\n",
        "   - `mnist.target`: The target values or labels corresponding to each image in the MNIST dataset.\n",
        "   - `test_size=0.25`: The proportion of the dataset to be allocated for testing. Here, 25% of the data will be used for testing, and the remaining 75% will be used for training.\n",
        "   - `random_state=42`: The random state or seed used for randomizing the data splits. Setting a specific random state ensures reproducibility, meaning that the same splits will be obtained each time the code is run.\n",
        "\n",
        "3. **Returned Values**:\n",
        "   The `train_test_split` function returns four arrays:\n",
        "   - `trainData`: The training data, which contains a subset of the MNIST data for training the machine learning model.\n",
        "   - `testData`: The testing data, which contains a subset of the MNIST data for evaluating the performance of the trained model.\n",
        "   - `trainLabels`: The labels or target values corresponding to the training data.\n",
        "   - `testLabels`: The labels or target values corresponding to the testing data.\n",
        "\n",
        "By using `train_test_split` with the specified parameters, the MNIST dataset is divided into training and testing sets. The training set (`trainData` and `trainLabels`) will consist of 75% of the original data, while the testing set (`testData` and `testLabels`) will contain 25% of the data. These splits allow for training a machine learning model on a subset of the data and then evaluating its performance on unseen data."
      ],
      "metadata": {
        "id": "K446bmprUFrQ"
      }
    },
    {
      "cell_type": "code",
      "source": [
        "# now, let's take 10% of the training data and use that for validation\n",
        "\n",
        "(trainData, valData, trainLabels, valLabels) = train_test_split(trainData, trainLabels,\n",
        "test_size=0.1, random_state=84)\n"
      ],
      "metadata": {
        "id": "AyXMLwzj_diX"
      },
      "execution_count": 23,
      "outputs": []
    },
    {
      "cell_type": "code",
      "source": [
        "# show the sizes of each data split\n",
        "\n",
        "print(\"training data points: {}\".format(len(trainLabels)))\n",
        "print(\"validation data points: {}\".format(len(valLabels)))\n",
        "print(\"testing data points: {}\".format(len(testLabels)))\n"
      ],
      "metadata": {
        "colab": {
          "base_uri": "https://localhost:8080/"
        },
        "id": "sq3_wcyM_e6A",
        "outputId": "22b3773d-f2c8-4b3d-cf00-42f67e42f4bb"
      },
      "execution_count": 24,
      "outputs": [
        {
          "output_type": "stream",
          "name": "stdout",
          "text": [
            "training data points: 1212\n",
            "validation data points: 135\n",
            "testing data points: 450\n"
          ]
        }
      ]
    },
    {
      "cell_type": "code",
      "source": [
        "# initialize the values of k for our k-Nearest Neighbor classifier along with the\n",
        "# list of accuracies for each value of k\n",
        "\n",
        "kVals = range(1, 30, 2)\n",
        "accuracies = []\n"
      ],
      "metadata": {
        "id": "mxLbzg73_h7g"
      },
      "execution_count": 25,
      "outputs": []
    },
    {
      "cell_type": "code",
      "source": [
        "# loop over various values of `k` for the k-Nearest Neighbor classifier\n",
        "\n",
        "for k in range(1, 30, 2):\n",
        "          # train the k-Nearest Neighbor classifier with the current value of `k`\n",
        "          model = KNeighborsClassifier(n_neighbors=k)\n",
        "          model.fit(trainData, trainLabels)\n",
        "          # evaluate the model and update the accuracies list\n",
        "          score = model.score(valData, valLabels)\n",
        "          print(\"k=%d, accuracy=%.2f%%\" % (k, score * 100))\n",
        "          accuracies.append(score)"
      ],
      "metadata": {
        "colab": {
          "base_uri": "https://localhost:8080/"
        },
        "id": "nykGjp1m_le3",
        "outputId": "4e0ad687-a573-4934-9753-19f9621fc0f3"
      },
      "execution_count": 26,
      "outputs": [
        {
          "output_type": "stream",
          "name": "stdout",
          "text": [
            "k=1, accuracy=99.26%\n",
            "k=3, accuracy=99.26%\n",
            "k=5, accuracy=99.26%\n",
            "k=7, accuracy=99.26%\n",
            "k=9, accuracy=99.26%\n",
            "k=11, accuracy=99.26%\n",
            "k=13, accuracy=99.26%\n",
            "k=15, accuracy=99.26%\n",
            "k=17, accuracy=98.52%\n",
            "k=19, accuracy=98.52%\n",
            "k=21, accuracy=97.78%\n",
            "k=23, accuracy=97.04%\n",
            "k=25, accuracy=97.78%\n",
            "k=27, accuracy=97.04%\n",
            "k=29, accuracy=97.04%\n"
          ]
        }
      ]
    },
    {
      "cell_type": "markdown",
      "source": [
        "In the provided code snippet, a loop is used to iterate over various values of `k` for the k-Nearest Neighbor classifier. Here's a breakdown of the code:\n",
        "\n",
        "1. **`for` loop**: The loop iterates over the range of values from 1 to 30 (exclusive) with a step size of 2. This means that it will iterate over odd values of `k` starting from 1 and up to 29.\n",
        "\n",
        "2. **Training the k-Nearest Neighbor classifier**:\n",
        "   - `model = KNeighborsClassifier(n_neighbors=k)`: A new instance of the KNeighborsClassifier class is created, specifying the number of neighbors (`n_neighbors`) as the current value of `k`. This defines the k-Nearest Neighbor classifier model with the current number of neighbors.\n",
        "   - `model.fit(trainData, trainLabels)`: The created model is trained using the training data (`trainData`) and their corresponding labels (`trainLabels`).\n",
        "\n",
        "3. **Evaluating the model and updating accuracies**:\n",
        "   - `score = model.score(valData, valLabels)`: The trained model is evaluated using the validation data (`valData`) and their corresponding labels (`valLabels`). The `score` represents the accuracy of the model on the validation set.\n",
        "   - `print(\"k=%d, accuracy=%.2f%%\" % (k, score * 100))`: The current value of `k` and its corresponding accuracy are printed to the console. The accuracy is formatted as a percentage using string formatting.\n",
        "   - `accuracies.append(score)`: The accuracy value is appended to the `accuracies` list, which can be used later for further analysis or visualization.\n",
        "\n",
        "The purpose of this code is to train and evaluate the k-Nearest Neighbor classifier with different values of `k`. By iterating over various values of `k` and evaluating the model's accuracy, the code helps in determining the optimal number of neighbors for the KNN algorithm on the given dataset.\n",
        "\n",
        "Typically, the loop starts with a small value of `k` (such as 1) and gradually increases it to larger odd values. This allows for observing how the accuracy of the model changes with different numbers of neighbors and helps in selecting the best `k` value for the KNN classifier."
      ],
      "metadata": {
        "id": "V8d4a14lVA3W"
      }
    },
    {
      "cell_type": "code",
      "source": [
        "# find the value of k that has the largest accuracy\n",
        "\n",
        "i = np.argmax(accuracies)\n",
        "print(\"k=%d achieved highest accuracy of %.2f%% on validation data\" % (kVals[i],\n",
        "accuracies[i] * 100))"
      ],
      "metadata": {
        "colab": {
          "base_uri": "https://localhost:8080/"
        },
        "id": "vYNkPyq__noX",
        "outputId": "f011bb37-18cb-4dd4-c3b7-22a1e4ba0606"
      },
      "execution_count": 27,
      "outputs": [
        {
          "output_type": "stream",
          "name": "stdout",
          "text": [
            "k=1 achieved highest accuracy of 99.26% on validation data\n"
          ]
        }
      ]
    },
    {
      "cell_type": "markdown",
      "source": [
        "In the provided code snippet, the value of `k` that achieved the highest accuracy on the validation data is determined. Here's how it works:\n",
        "\n",
        "1. **`np.argmax()` function**: The `argmax()` function from the NumPy library is used to find the index of the maximum value in the `accuracies` list. It returns the index of the first occurrence of the maximum value.\n",
        "\n",
        "2. **Finding the index and value of `k` with the highest accuracy**:\n",
        "   - `i = np.argmax(accuracies)`: The `argmax()` function is applied to the `accuracies` list, and the resulting index of the maximum accuracy is stored in the variable `i`.\n",
        "   - `kVals[i]`: The corresponding `k` value for the maximum accuracy is obtained from the `kVals` list using the index `i`.\n",
        "   - `accuracies[i] * 100`: The highest accuracy value is obtained by accessing the element in the `accuracies` list at index `i` and multiplying it by 100 to represent it as a percentage.\n",
        "\n",
        "3. **Printing the results**:\n",
        "   - `print(\"k=%d achieved highest accuracy of %.2f%% on validation data\" % (kVals[i], accuracies[i] * 100))`: The value of `k` that achieved the highest accuracy is printed along with the corresponding accuracy value. The `%d` and `%.2f` are placeholders for the integer (`kVals[i]`) and float (`accuracies[i] * 100`) values, respectively.\n",
        "\n",
        "By using `np.argmax()` to find the index of the maximum accuracy and then accessing the corresponding `k` value and accuracy from the lists, the code determines which value of `k` achieved the highest accuracy on the validation data. This information is then printed to the console."
      ],
      "metadata": {
        "id": "tI0RQ7C6V22J"
      }
    },
    {
      "cell_type": "code",
      "source": [
        "# re-train our classifier using the best k value and predict the labels of the\n",
        "# test data\n",
        "\n",
        "model = KNeighborsClassifier(n_neighbors=kVals[i])\n",
        "model.fit(trainData, trainLabels)\n",
        "predictions = model.predict(testData)\n",
        "print(predictions[1])\n"
      ],
      "metadata": {
        "colab": {
          "base_uri": "https://localhost:8080/"
        },
        "id": "-hPt1iZt_pu4",
        "outputId": "010e0dec-3f26-43e4-9b59-ff8021656cef"
      },
      "execution_count": 29,
      "outputs": [
        {
          "output_type": "stream",
          "name": "stdout",
          "text": [
            "9\n"
          ]
        }
      ]
    },
    {
      "cell_type": "markdown",
      "source": [
        "In the provided code snippet, the k-Nearest Neighbor classifier is retrained using the best value of `k` that achieved the highest accuracy on the validation data. The classifier is then used to predict the labels of the test data. Here's how it works:\n",
        "\n",
        "1. **Retraining the classifier with the best `k` value**:\n",
        "   - `model = KNeighborsClassifier(n_neighbors=kVals[i])`: A new instance of the KNeighborsClassifier class is created, specifying the number of neighbors (`n_neighbors`) as the best `k` value obtained from `kVals[i]`.\n",
        "   - `model.fit(trainData, trainLabels)`: The classifier is retrained using the training data (`trainData`) and their corresponding labels (`trainLabels`) with the best `k` value.\n",
        "\n",
        "2. **Predicting the labels of the test data**:\n",
        "   - `predictions = model.predict(testData)`: The trained classifier is used to predict the labels of the test data (`testData`).\n",
        "\n",
        "3. **Printing a sample prediction**:\n",
        "   - `print(predictions[1])`: The predicted label of the second sample in the test data is printed to the console. The index `1` is used to access the second element in the `predictions` array.\n",
        "\n",
        "By retraining the classifier with the best `k` value and using it to predict the labels of the test data, the code allows you to evaluate the performance of the classifier on unseen data. Printing a sample prediction provides a glimpse of the predicted label for a specific test sample, in this case, the second sample in the test data."
      ],
      "metadata": {
        "id": "12u7ydQgWAdS"
      }
    },
    {
      "cell_type": "code",
      "source": [
        "# show a final classification report demonstrating the accuracy of the classifier\n",
        "# for each of the digits\n",
        "\n",
        "print(\"EVALUATION ON TESTING DATA\")\n",
        "print(classification_report(testLabels, predictions))\n",
        "\n",
        "print (\"Confusion matrix\")\n",
        "print(confusion_matrix(testLabels,predictions))"
      ],
      "metadata": {
        "colab": {
          "base_uri": "https://localhost:8080/"
        },
        "id": "bAkhY10H_sMw",
        "outputId": "f37bceb2-1ebc-4050-e451-cf5ede4286ba"
      },
      "execution_count": 30,
      "outputs": [
        {
          "output_type": "stream",
          "name": "stdout",
          "text": [
            "EVALUATION ON TESTING DATA\n",
            "              precision    recall  f1-score   support\n",
            "\n",
            "           0       1.00      1.00      1.00        43\n",
            "           1       0.95      1.00      0.97        37\n",
            "           2       1.00      1.00      1.00        38\n",
            "           3       0.98      0.98      0.98        46\n",
            "           4       0.98      0.98      0.98        55\n",
            "           5       0.98      1.00      0.99        59\n",
            "           6       1.00      1.00      1.00        45\n",
            "           7       1.00      0.98      0.99        41\n",
            "           8       0.97      0.95      0.96        38\n",
            "           9       0.96      0.94      0.95        48\n",
            "\n",
            "    accuracy                           0.98       450\n",
            "   macro avg       0.98      0.98      0.98       450\n",
            "weighted avg       0.98      0.98      0.98       450\n",
            "\n",
            "Confusion matrix\n",
            "[[43  0  0  0  0  0  0  0  0  0]\n",
            " [ 0 37  0  0  0  0  0  0  0  0]\n",
            " [ 0  0 38  0  0  0  0  0  0  0]\n",
            " [ 0  0  0 45  0  0  0  0  1  0]\n",
            " [ 0  1  0  0 54  0  0  0  0  0]\n",
            " [ 0  0  0  0  0 59  0  0  0  0]\n",
            " [ 0  0  0  0  0  0 45  0  0  0]\n",
            " [ 0  0  0  0  0  0  0 40  0  1]\n",
            " [ 0  1  0  0  0  0  0  0 36  1]\n",
            " [ 0  0  0  1  1  1  0  0  0 45]]\n"
          ]
        }
      ]
    },
    {
      "cell_type": "markdown",
      "source": [
        "In the provided code snippet, the final classification report and confusion matrix are displayed to evaluate the accuracy of the classifier on the testing data. Here's how it works:\n",
        "\n",
        "1. **Printing the evaluation on testing data**:\n",
        "   - `print(\"EVALUATION ON TESTING DATA\")`: A header is printed to indicate the following information is related to the evaluation on the testing data.\n",
        "   - `print(classification_report(testLabels, predictions))`: The `classification_report()` function from the `metrics` module is used to generate a report that includes various performance metrics such as precision, recall, F1-score, and support for each class. It takes the true labels (`testLabels`) and the predicted labels (`predictions`) as input, and the resulting report is printed to the console. This report provides a summary of the classifier's performance for each digit class.\n",
        "\n",
        "2. **Printing the confusion matrix**:\n",
        "   - `print(\"Confusion matrix\")`: A header is printed to indicate that the following information is the confusion matrix.\n",
        "   - `print(confusion_matrix(testLabels, predictions))`: The `confusion_matrix()` function from the `metrics` module is used to compute the confusion matrix based on the true labels (`testLabels`) and the predicted labels (`predictions`). The resulting confusion matrix is printed to the console. The confusion matrix provides information about the number of samples that were correctly or incorrectly classified for each class.\n",
        "\n",
        "By printing the classification report and confusion matrix, the code allows you to gain insights into the overall accuracy and performance of the classifier on the testing data. The classification report provides a detailed analysis of the classifier's performance for each digit class, while the confusion matrix gives a more granular view of the classification results for each class."
      ],
      "metadata": {
        "id": "Dqt8CRENWNd5"
      }
    },
    {
      "cell_type": "code",
      "source": [
        "# loop over a few random digits\n",
        "\n",
        "for i in np.random.randint(0, high=len(testLabels), size=(5,)):\n",
        "         # grab the image and classify it\n",
        "         image = testData[i]\n",
        "         prediction = model.predict([image])[0]\n",
        "         # convert the image for a 64-dim array to an 8 x 8 image compatible with OpenCV,\n",
        "         # then resize it to 32 x 32 pixels so we can see it better\n",
        "##         image = image.reshape((64, 64))\n",
        "##         image = exposure.rescale_intensity(image, out_range=(0, 255))\n",
        "##         image = imutils.resize(image, width=32, inter=cv2.INTER_CUBIC)\n",
        "\n",
        "         # show the prediction\n",
        "\n",
        "         imgdata = np.array(image, dtype='float')\n",
        "         pixels = imgdata.reshape((8,8))\n",
        "         plt.imshow(pixels,cmap='gray')\n",
        "         plt.annotate(prediction,(3,3),bbox={'facecolor':'white'},fontsize=16)\n",
        "         print(\"i think tha digit is : {}\".format(prediction))\n",
        "         #cv2.imshow(\"image\", image)\n",
        "         plt.show()\n",
        "         cv2.waitKey(0)"
      ],
      "metadata": {
        "id": "1tXZnu9n_udp"
      },
      "execution_count": null,
      "outputs": []
    },
    {
      "cell_type": "markdown",
      "source": [
        "In the provided code snippet, a loop is used to randomly select a few digits from the test data and classify them using the trained model. Here's how it works:\n",
        "\n",
        "1. **Looping over random digits**:\n",
        "   - `for i in np.random.randint(0, high=len(testLabels), size=(5,)):`: The loop iterates over a randomly generated array of indices. `np.random.randint()` function is used to generate 5 random integers within the range of indices of the test data (`0` to `len(testLabels)`). These indices are stored in the variable `i` during each iteration.\n",
        "\n",
        "2. **Classifying and displaying the digit images**:\n",
        "   - `image = testData[i]`: The image data corresponding to the randomly selected index `i` is retrieved from the `testData` array and stored in the variable `image`.\n",
        "   - `prediction = model.predict([image])[0]`: The trained model is used to predict the label of the current `image`. The predicted label is stored in the variable `prediction`.\n",
        "   - `imgdata = np.array(image, dtype='float')`: The `image` is converted to a NumPy array of type float.\n",
        "   - `pixels = imgdata.reshape((8,8))`: The 1D array of pixels is reshaped to a 2D array representing an 8x8 image.\n",
        "   - `plt.imshow(pixels,cmap='gray')`: The image is displayed using the `imshow()` function from matplotlib with the grayscale color map (`'gray'`).\n",
        "   - `plt.annotate(prediction,(3,3),bbox={'facecolor':'white'},fontsize=16)`: The predicted label is annotated on the image plot at coordinates (3, 3) with a white background color and font size 16.\n",
        "   - `print(\"i think the digit is: {}\".format(prediction))`: The predicted label is printed to the console.\n",
        "   - `plt.show()`: The image plot with the annotation is displayed.\n",
        "   - `cv2.waitKey(0)`: This line is commented out in the code snippet, but it is typically used in OpenCV to wait for a keyboard event. It allows the user to close the displayed image by pressing any key.\n",
        "\n",
        "By looping over a few randomly selected digits from the test data, the code classifies each digit using the trained model and displays the digit image along with the predicted label. This allows you to visually inspect the performance of the classifier on individual digits and compare the predicted labels with the ground truth labels."
      ],
      "metadata": {
        "id": "8Lrcvi1KWcwR"
      }
    }
  ]
}